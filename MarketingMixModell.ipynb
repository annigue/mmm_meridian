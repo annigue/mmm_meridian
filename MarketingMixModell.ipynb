{
  "nbformat": 4,
  "nbformat_minor": 0,
  "metadata": {
    "colab": {
      "provenance": [],
      "mount_file_id": "https://github.com/annigue/mmm_meridian/blob/main/MarketingMixModell.ipynb",
      "authorship_tag": "ABX9TyPxsTSTmkdEX0KrvkzO0NrX",
      "include_colab_link": true
    },
    "kernelspec": {
      "name": "python3",
      "display_name": "Python 3"
    },
    "language_info": {
      "name": "python"
    }
  },
  "cells": [
    {
      "cell_type": "markdown",
      "metadata": {
        "id": "view-in-github",
        "colab_type": "text"
      },
      "source": [
        "<a href=\"https://colab.research.google.com/github/annigue/mmm_meridian/blob/main/MarketingMixModell.ipynb\" target=\"_parent\"><img src=\"https://colab.research.google.com/assets/colab-badge.svg\" alt=\"Open In Colab\"/></a>"
      ]
    },
    {
      "cell_type": "code",
      "source": [
        "from google.colab import drive\n",
        "drive.mount('/content/drive/')"
      ],
      "metadata": {
        "colab": {
          "base_uri": "https://localhost:8080/"
        },
        "id": "9MPewPO3KK9i",
        "outputId": "924a1925-5f0c-4b01-83e3-94f17bd79a72"
      },
      "execution_count": 5,
      "outputs": [
        {
          "output_type": "stream",
          "name": "stdout",
          "text": [
            "Drive already mounted at /content/drive/; to attempt to forcibly remount, call drive.mount(\"/content/drive/\", force_remount=True).\n"
          ]
        }
      ]
    },
    {
      "cell_type": "code",
      "execution_count": null,
      "metadata": {
        "colab": {
          "base_uri": "https://localhost:8080/"
        },
        "id": "rNwMq74bDXmO",
        "outputId": "1fcaaa0c-40ec-4799-f374-672695c0d046"
      },
      "outputs": [
        {
          "output_type": "stream",
          "name": "stdout",
          "text": [
            "Requirement already satisfied: pyreadr in /usr/local/lib/python3.11/dist-packages (0.5.3)\n",
            "Requirement already satisfied: pandas>=1.2.0 in /usr/local/lib/python3.11/dist-packages (from pyreadr) (2.2.2)\n",
            "Requirement already satisfied: numpy>=1.23.2 in /usr/local/lib/python3.11/dist-packages (from pandas>=1.2.0->pyreadr) (2.0.2)\n",
            "Requirement already satisfied: python-dateutil>=2.8.2 in /usr/local/lib/python3.11/dist-packages (from pandas>=1.2.0->pyreadr) (2.9.0.post0)\n",
            "Requirement already satisfied: pytz>=2020.1 in /usr/local/lib/python3.11/dist-packages (from pandas>=1.2.0->pyreadr) (2025.2)\n",
            "Requirement already satisfied: tzdata>=2022.7 in /usr/local/lib/python3.11/dist-packages (from pandas>=1.2.0->pyreadr) (2025.2)\n",
            "Requirement already satisfied: six>=1.5 in /usr/local/lib/python3.11/dist-packages (from python-dateutil>=2.8.2->pandas>=1.2.0->pyreadr) (1.17.0)\n"
          ]
        }
      ],
      "source": [
        "%pip install pyreadr\n"
      ]
    },
    {
      "cell_type": "code",
      "source": [
        "%pip install pyreadr\n",
        "%pip install requests\n",
        "%pip install tempfile"
      ],
      "metadata": {
        "colab": {
          "base_uri": "https://localhost:8080/"
        },
        "id": "70-WeVzTgt6_",
        "outputId": "5f7e9b5e-3190-4c34-fe4c-e6e0c25ed65f"
      },
      "execution_count": 7,
      "outputs": [
        {
          "output_type": "stream",
          "name": "stdout",
          "text": [
            "Collecting pyreadr\n",
            "  Downloading pyreadr-0.5.3-cp311-cp311-manylinux_2_17_x86_64.manylinux2014_x86_64.whl.metadata (1.4 kB)\n",
            "Requirement already satisfied: pandas>=1.2.0 in /usr/local/lib/python3.11/dist-packages (from pyreadr) (2.2.2)\n",
            "Requirement already satisfied: numpy>=1.23.2 in /usr/local/lib/python3.11/dist-packages (from pandas>=1.2.0->pyreadr) (2.0.2)\n",
            "Requirement already satisfied: python-dateutil>=2.8.2 in /usr/local/lib/python3.11/dist-packages (from pandas>=1.2.0->pyreadr) (2.9.0.post0)\n",
            "Requirement already satisfied: pytz>=2020.1 in /usr/local/lib/python3.11/dist-packages (from pandas>=1.2.0->pyreadr) (2025.2)\n",
            "Requirement already satisfied: tzdata>=2022.7 in /usr/local/lib/python3.11/dist-packages (from pandas>=1.2.0->pyreadr) (2025.2)\n",
            "Requirement already satisfied: six>=1.5 in /usr/local/lib/python3.11/dist-packages (from python-dateutil>=2.8.2->pandas>=1.2.0->pyreadr) (1.17.0)\n",
            "Downloading pyreadr-0.5.3-cp311-cp311-manylinux_2_17_x86_64.manylinux2014_x86_64.whl (411 kB)\n",
            "\u001b[?25l   \u001b[90m━━━━━━━━━━━━━━━━━━━━━━━━━━━━━━━━━━━━━━━━\u001b[0m \u001b[32m0.0/411.7 kB\u001b[0m \u001b[31m?\u001b[0m eta \u001b[36m-:--:--\u001b[0m\r\u001b[2K   \u001b[91m━━━━━━━━━━━━━━━━━━━━━━━━━━━━━━\u001b[0m\u001b[91m╸\u001b[0m\u001b[90m━━━━━━━━━\u001b[0m \u001b[32m317.4/411.7 kB\u001b[0m \u001b[31m9.6 MB/s\u001b[0m eta \u001b[36m0:00:01\u001b[0m\r\u001b[2K   \u001b[90m━━━━━━━━━━━━━━━━━━━━━━━━━━━━━━━━━━━━━━━━\u001b[0m \u001b[32m411.7/411.7 kB\u001b[0m \u001b[31m8.2 MB/s\u001b[0m eta \u001b[36m0:00:00\u001b[0m\n",
            "\u001b[?25hInstalling collected packages: pyreadr\n",
            "Successfully installed pyreadr-0.5.3\n",
            "Requirement already satisfied: requests in /usr/local/lib/python3.11/dist-packages (2.32.3)\n",
            "Requirement already satisfied: charset-normalizer<4,>=2 in /usr/local/lib/python3.11/dist-packages (from requests) (3.4.2)\n",
            "Requirement already satisfied: idna<4,>=2.5 in /usr/local/lib/python3.11/dist-packages (from requests) (3.10)\n",
            "Requirement already satisfied: urllib3<3,>=1.21.1 in /usr/local/lib/python3.11/dist-packages (from requests) (2.4.0)\n",
            "Requirement already satisfied: certifi>=2017.4.17 in /usr/local/lib/python3.11/dist-packages (from requests) (2025.6.15)\n",
            "\u001b[31mERROR: Could not find a version that satisfies the requirement tempfile (from versions: none)\u001b[0m\u001b[31m\n",
            "\u001b[0m\u001b[31mERROR: No matching distribution found for tempfile\u001b[0m\u001b[31m\n",
            "\u001b[0m"
          ]
        }
      ]
    },
    {
      "cell_type": "code",
      "source": [
        "import pyreadr\n",
        "import requests\n",
        "import tempfile\n",
        "\n",
        "# URL zur .RData-Datei\n",
        "url = \"https://raw.githubusercontent.com/facebookexperimental/Robyn/main/R/data/dt_simulated_weekly.RData\"\n",
        "\n",
        "# Lade Datei in ein temporäres File\n",
        "response = requests.get(url)\n",
        "with tempfile.NamedTemporaryFile(suffix=\".RData\") as tmp_file:\n",
        "    tmp_file.write(response.content)\n",
        "    tmp_file.flush()\n",
        "\n",
        "    # Lese das RData-Objekt\n",
        "    result = pyreadr.read_r(tmp_file.name)\n",
        "\n",
        "# Zeige die geladenen Objekte\n",
        "print(result.keys())\n",
        "\n",
        "# Extrahiere das DataFrame\n",
        "df = result[\"dt_simulated_weekly\"]\n",
        "print(df.head())\n",
        "\n",
        "\n"
      ],
      "metadata": {
        "colab": {
          "base_uri": "https://localhost:8080/"
        },
        "id": "NuD5h8y8Ejc2",
        "outputId": "05563163-d9af-4dd2-88d9-c95707576e68"
      },
      "execution_count": 8,
      "outputs": [
        {
          "output_type": "stream",
          "name": "stdout",
          "text": [
            "odict_keys(['dt_simulated_weekly'])\n",
            "         DATE       revenue          tv_S     ooh_S       print_S  \\\n",
            "0  2015-11-23  2.754372e+06  22358.346667       0.0  12728.488889   \n",
            "1  2015-11-30  2.584277e+06  28613.453333       0.0      0.000000   \n",
            "2  2015-12-07  2.547387e+06      0.000000  132278.4    453.866667   \n",
            "3  2015-12-14  2.875220e+06  83450.306667       0.0  17680.000000   \n",
            "4  2015-12-21  2.215953e+06      0.000000  277336.0      0.000000   \n",
            "\n",
            "     facebook_I  search_clicks_P     search_S  competitor_sales_B  \\\n",
            "0  2.430128e+07         0.000000     0.000000             8125009   \n",
            "1  5.527033e+06      9837.238486  4133.333333             7901549   \n",
            "2  1.665159e+07     12044.119653  3786.666667             8300197   \n",
            "3  1.054977e+07     12268.070319  4253.333333             8122883   \n",
            "4  2.934090e+06      9467.248023  3613.333333             7105985   \n",
            "\n",
            "    facebook_S events    newsletter  \n",
            "0  7607.132915     na  19401.653846  \n",
            "1  1141.952450     na  14791.000000  \n",
            "2  4256.375378     na  14544.000000  \n",
            "3  2800.490677     na   2800.000000  \n",
            "4   689.582605     na  15478.000000  \n"
          ]
        }
      ]
    },
    {
      "cell_type": "markdown",
      "source": [],
      "metadata": {
        "id": "PoKgC9gXl6uB"
      }
    },
    {
      "cell_type": "markdown",
      "source": [],
      "metadata": {
        "id": "onSsdVBRtKiU"
      }
    },
    {
      "cell_type": "code",
      "source": [
        "## Wetter\n",
        "\n",
        "%pip install pycountry\n",
        "import sys\n",
        "sys.path.append('/content/drive/MyDrive/ColabNotebooks/')\n",
        "\n",
        "from DWD_hist_weather import tagestemp_land, tageswerte_land\n",
        "import pickle\n",
        "import matplotlib.pyplot as plt\n",
        "import matplotlib.dates as mdates\n",
        "import seaborn as sns\n",
        "import pycountry\n",
        "\n",
        "\n",
        "import os\n",
        "import pickle\n",
        "import pandas as pd\n",
        "\n",
        "\n",
        "# Ordner für Pickles sicherstellen\n",
        "os.makedirs('/content/drive/MyDrive/ColabNotebooks/pickles', exist_ok=True)\n",
        "\n",
        "                                                                                                                                                                                                                                                                                                                                                                        gesamtdatensatz = pd.concat([gesamtdatensatz, tageswerte])\n",
        "import pycountry\n",
        "import os\n",
        "import pickle\n",
        "import pandas as pd\n",
        "from DWD_hist_weather import tageswerte_land\n",
        "\n",
        "# Ordner für Pickles sicherstellen\n",
        "os.makedirs('/content/drive/MyDrive/ColabNotebooks/pickles', exist_ok=True)\n",
        "\n",
        "# Mapping von pycountry-Namen zu DWD-Namen\n",
        "bundesland_mapping = {\n",
        "    'Baden-Württemberg': 'BADEN-WUERTTEMBERG',\n",
        "    'Bavaria': 'BAYERN',\n",
        "    'Berlin': 'BERLIN',\n",
        "    'Brandenburg': 'BRANDENBURG',\n",
        "    'Bremen': 'BREMEN',\n",
        "    'Hamburg': 'HAMBURG',\n",
        "    'Hesse': 'HESSEN',\n",
        "    'Lower Saxony': 'NIEDERSACHSEN',\n",
        "    'Mecklenburg-Vorpommern': 'MECKLENBURG-VORPOMMERN',\n",
        "    'North Rhine-Westphalia': 'NORDRHEIN-WESTFALEN',\n",
        "    'Rhineland-Palatinate': 'RHEINLAND-PFALZ',\n",
        "    'Saarland': 'SAARLAND',\n",
        "    'Saxony': 'SACHSEN',\n",
        "    'Saxony-Anhalt': 'SACHSEN-ANHALT',\n",
        "    'Schleswig-Holstein': 'SCHLESWIG-HOLSTEIN',\n",
        "    'Thuringia': 'THUERINGEN'\n",
        "}\n",
        "\n",
        "# Liste der deutschen Bundesländer aus pycountry\n",
        "bundeslaender = [country.name for country in pycountry.subdivisions.get(country_code='DE')]\n",
        "\n",
        "gesamtdatensatz = pd.DataFrame()\n",
        "\n",
        "for bundesland in bundeslaender:\n",
        "    if bundesland not in bundesland_mapping:\n",
        "        print(f'Skipping unmapped Bundesland: {bundesland}')\n",
        "        continue\n",
        "\n",
        "    dwd_name = bundesland_mapping[bundesland]\n",
        "    pickle_dateiname = f'/content/drive/MyDrive/ColabNotebooks/pickles/{dwd_name}.pickle'\n",
        "\n",
        "    try:\n",
        "        with open(pickle_dateiname, 'rb') as f:\n",
        "            tageswerte = pickle.load(f)\n",
        "        print(f'✅ Wetterdaten für {dwd_name} aus Pickle geladen.')\n",
        "    except (FileNotFoundError, IOError\n",
        "\n",
        "# Iteriere über die Bundesländer\n",
        "for bundesland in bundeslaender:\n",
        "    pickle_dateiname = f'/content/drive/MyDrive/ColabNotebooks/pickles/{bundesland}.pickle'\n",
        "\n",
        "    try:\n",
        "        tageswerte = pickle.load(open(pickle_dateiname, 'rb'))\n",
        "        print(f'Wetterdaten für {bundesland} aus pickle eingelesen.')\n",
        "    except (OSError, IOError):\n",
        "        tageswerte = tageswerte_land(bundesland)  # Funktion tageswerte_land() anpassen oder definieren\n",
        "        pickle.dump(tageswerte, open(pickle_dateiname, 'wb'))\n",
        "        print(f'\\nWetterdaten für {bundesland} in pickle geschrieben.')\n",
        "\n",
        "\n",
        "    # Füge eine Spalte mit dem Bundeslandnamen und der Gewichtung hinzu\n",
        "    tageswerte['Bundesland'] = bundesland\n",
        "\n",
        "    # Füge die gewichteten Wetterdaten des aktuellen Bundeslandes zum Gesamtdatensatz hinzu\n",
        "    gesamtdatensatz = pd.concat([gesamtdatensatz, tageswerte])\n",
        "\n",
        "    # Aufheben der Indexierung, damit die Datumsspalte eine richtige Variable ist\n",
        "gesamtdatensatz = gesamtdatensatz.reset_index()\n",
        "gesamtdatensatz.tail()\n",
        "\n",
        "\n",
        "\n",
        "# Umwandlung der \"Datum\"-Spalte in das Datumsformat\n",
        "gesamtdatensatz['Datum'] = pd.to_datetime(gesamtdatensatz['Datum'])\n",
        "\n",
        "# Ergänzen der Kalenderwoche\n",
        "gesamtdatensatz['Kalenderwoche'] = gesamtdatensatz['Datum'].dt.isocalendar().week\n",
        "\n",
        "\n",
        "# Gruppierung nach Bundesland und Kalenderwoche und Berechnung der Aggregationen\n",
        "wetter_week = gesamtdatensatz.groupby(['Jahr','Kalenderwoche'], as_index=False).agg({\n",
        "    'TempMean': 'mean',\n",
        "    'HumidityMean': 'mean',\n",
        "    'TempMax': 'max',\n",
        "    'TempMin': 'min',\n",
        "    'SunshineDuration': 'mean',\n",
        "    'Jahr': lambda x: x.iloc[0],  # Übernahme des ersten Werts für Jahr (Annahme: gleich für die ganze Woche)\n",
        "    'Datum': lambda x: x.iloc[0],  # Übernahme des ersten Werts für Datum (Annahme: gleich für die ganze Woche)\n",
        "    'Monat': lambda x: x.iloc[0],  # Übernahme des ersten Werts für Monat (Annahme: gleich für die ganze Woche)\n",
        "})\n",
        "\n",
        "# Die neue Spalte \"Product\" hinzufügen, die das Produkt der beiden Spalten enthält\n",
        "wetter_week['Sunshine_Humidity_Interaktion'] = wetter_week['SunshineDuration'] * wetter_week['HumidityMean']\n",
        "wetter_week['Sunshine_Temp_Interaktion'] = wetter_week['SunshineDuration'] * wetter_week['TempMax']\n",
        "\n",
        "wetter_week.tail()\n",
        "\n",
        "column_mapping = {'TempMean': 'seas_TempMean', 'HumidityMean':'seas_HumidityMeand', 'TempMax':'seas_TempMax',\n",
        "                  'TempMin':'seas_TempMin', 'SunshineDuration': 'seas_SunshineDuration',\n",
        "                  'Sunshine_Humidity_Interaktion': 'seas_Sunshine_Humidity_Interaktion','Sunshine_Temp_Interaktion':'seas_Sunshine_Temp_Interaktion' }\n",
        "wetter_week = wetter_week.rename(columns=column_mapping)\n",
        "#wetter_week.to_excel(r'wetter_week.xlsx', index=False)\n",
        "\n",
        "#df_seas = pd.read_excel(\"wetter_week.xlsx\")\n",
        "df_seas = wetter_week\n",
        "df_seas['Datum'] = pd.to_datetime(df_seas['Datum'], format='%Y-%m-%d')\n",
        "\n",
        "df = pd.merge(df, df_seas, on='Datum', how='left')\n",
        "df.tail()"
      ],
      "metadata": {
        "colab": {
          "base_uri": "https://localhost:8080/",
          "height": 106
        },
        "id": "6WSsxDJCpnaB",
        "outputId": "5af1dfcb-86c6-4828-f19a-25c1c11a75be"
      },
      "execution_count": 19,
      "outputs": [
        {
          "output_type": "error",
          "ename": "IndentationError",
          "evalue": "unexpected indent (ipython-input-19-1367972444.py, line 23)",
          "traceback": [
            "\u001b[0;36m  File \u001b[0;32m\"/tmp/ipython-input-19-1367972444.py\"\u001b[0;36m, line \u001b[0;32m23\u001b[0m\n\u001b[0;31m    gesamtdatensatz = pd.concat([gesamtdatensatz, tageswerte])\u001b[0m\n\u001b[0m    ^\u001b[0m\n\u001b[0;31mIndentationError\u001b[0m\u001b[0;31m:\u001b[0m unexpected indent\n"
          ]
        }
      ]
    },
    {
      "cell_type": "code",
      "source": [
        "# Install meridian: from PyPI @ latest release\n",
        "%pip install --upgrade google-meridian[colab,and-cuda]"
      ],
      "metadata": {
        "colab": {
          "base_uri": "https://localhost:8080/"
        },
        "id": "tBkRWoKJGKRd",
        "outputId": "bf365cdb-e8dd-43c8-cb81-3c129184c39a"
      },
      "execution_count": null,
      "outputs": [
        {
          "output_type": "stream",
          "name": "stdout",
          "text": [
            "Collecting google-meridian[and-cuda,colab]\n",
            "  Downloading google_meridian-1.1.2-py3-none-any.whl.metadata (22 kB)\n",
            "Requirement already satisfied: arviz in /usr/local/lib/python3.11/dist-packages (from google-meridian[and-cuda,colab]) (0.21.0)\n",
            "Requirement already satisfied: altair>=5 in /usr/local/lib/python3.11/dist-packages (from google-meridian[and-cuda,colab]) (5.5.0)\n",
            "Requirement already satisfied: immutabledict in /usr/local/lib/python3.11/dist-packages (from google-meridian[and-cuda,colab]) (4.2.1)\n",
            "Requirement already satisfied: joblib in /usr/local/lib/python3.11/dist-packages (from google-meridian[and-cuda,colab]) (1.5.1)\n",
            "Collecting natsort<8,>=7.1.1 (from google-meridian[and-cuda,colab])\n",
            "  Downloading natsort-7.1.1-py3-none-any.whl.metadata (22 kB)\n",
            "Requirement already satisfied: numpy<3,>=2.0.2 in /usr/local/lib/python3.11/dist-packages (from google-meridian[and-cuda,colab]) (2.0.2)\n",
            "Requirement already satisfied: pandas<3,>=2.2.2 in /usr/local/lib/python3.11/dist-packages (from google-meridian[and-cuda,colab]) (2.2.2)\n",
            "Requirement already satisfied: scipy<2,>=1.13.1 in /usr/local/lib/python3.11/dist-packages (from google-meridian[and-cuda,colab]) (1.15.3)\n",
            "Requirement already satisfied: tensorflow<2.19,>=2.18 in /usr/local/lib/python3.11/dist-packages (from google-meridian[and-cuda,colab]) (2.18.0)\n",
            "Requirement already satisfied: tensorflow-probability<0.26,>=0.25 in /usr/local/lib/python3.11/dist-packages (from google-meridian[and-cuda,colab]) (0.25.0)\n",
            "Requirement already satisfied: tf-keras<2.19,>=2.18 in /usr/local/lib/python3.11/dist-packages (from google-meridian[and-cuda,colab]) (2.18.0)\n",
            "Requirement already satisfied: xarray in /usr/local/lib/python3.11/dist-packages (from google-meridian[and-cuda,colab]) (2025.3.1)\n",
            "Requirement already satisfied: psutil in /usr/local/lib/python3.11/dist-packages (from google-meridian[and-cuda,colab]) (5.9.5)\n",
            "Collecting python-calamine (from google-meridian[and-cuda,colab])\n",
            "  Downloading python_calamine-0.3.2-cp311-cp311-manylinux_2_17_x86_64.manylinux2014_x86_64.whl.metadata (3.9 kB)\n",
            "Requirement already satisfied: jinja2 in /usr/local/lib/python3.11/dist-packages (from altair>=5->google-meridian[and-cuda,colab]) (3.1.6)\n",
            "Requirement already satisfied: jsonschema>=3.0 in /usr/local/lib/python3.11/dist-packages (from altair>=5->google-meridian[and-cuda,colab]) (4.24.0)\n",
            "Requirement already satisfied: narwhals>=1.14.2 in /usr/local/lib/python3.11/dist-packages (from altair>=5->google-meridian[and-cuda,colab]) (1.41.0)\n",
            "Requirement already satisfied: packaging in /usr/local/lib/python3.11/dist-packages (from altair>=5->google-meridian[and-cuda,colab]) (24.2)\n",
            "Requirement already satisfied: typing-extensions>=4.10.0 in /usr/local/lib/python3.11/dist-packages (from altair>=5->google-meridian[and-cuda,colab]) (4.14.0)\n",
            "Requirement already satisfied: python-dateutil>=2.8.2 in /usr/local/lib/python3.11/dist-packages (from pandas<3,>=2.2.2->google-meridian[and-cuda,colab]) (2.9.0.post0)\n",
            "Requirement already satisfied: pytz>=2020.1 in /usr/local/lib/python3.11/dist-packages (from pandas<3,>=2.2.2->google-meridian[and-cuda,colab]) (2025.2)\n",
            "Requirement already satisfied: tzdata>=2022.7 in /usr/local/lib/python3.11/dist-packages (from pandas<3,>=2.2.2->google-meridian[and-cuda,colab]) (2025.2)\n",
            "Requirement already satisfied: absl-py>=1.0.0 in /usr/local/lib/python3.11/dist-packages (from tensorflow<2.19,>=2.18->google-meridian[and-cuda,colab]) (1.4.0)\n",
            "Requirement already satisfied: astunparse>=1.6.0 in /usr/local/lib/python3.11/dist-packages (from tensorflow<2.19,>=2.18->google-meridian[and-cuda,colab]) (1.6.3)\n",
            "Requirement already satisfied: flatbuffers>=24.3.25 in /usr/local/lib/python3.11/dist-packages (from tensorflow<2.19,>=2.18->google-meridian[and-cuda,colab]) (25.2.10)\n",
            "Requirement already satisfied: gast!=0.5.0,!=0.5.1,!=0.5.2,>=0.2.1 in /usr/local/lib/python3.11/dist-packages (from tensorflow<2.19,>=2.18->google-meridian[and-cuda,colab]) (0.6.0)\n",
            "Requirement already satisfied: google-pasta>=0.1.1 in /usr/local/lib/python3.11/dist-packages (from tensorflow<2.19,>=2.18->google-meridian[and-cuda,colab]) (0.2.0)\n",
            "Requirement already satisfied: libclang>=13.0.0 in /usr/local/lib/python3.11/dist-packages (from tensorflow<2.19,>=2.18->google-meridian[and-cuda,colab]) (18.1.1)\n",
            "Requirement already satisfied: opt-einsum>=2.3.2 in /usr/local/lib/python3.11/dist-packages (from tensorflow<2.19,>=2.18->google-meridian[and-cuda,colab]) (3.4.0)\n",
            "Requirement already satisfied: protobuf!=4.21.0,!=4.21.1,!=4.21.2,!=4.21.3,!=4.21.4,!=4.21.5,<6.0.0dev,>=3.20.3 in /usr/local/lib/python3.11/dist-packages (from tensorflow<2.19,>=2.18->google-meridian[and-cuda,colab]) (5.29.5)\n",
            "Requirement already satisfied: requests<3,>=2.21.0 in /usr/local/lib/python3.11/dist-packages (from tensorflow<2.19,>=2.18->google-meridian[and-cuda,colab]) (2.32.3)\n",
            "Requirement already satisfied: setuptools in /usr/local/lib/python3.11/dist-packages (from tensorflow<2.19,>=2.18->google-meridian[and-cuda,colab]) (75.2.0)\n",
            "Requirement already satisfied: six>=1.12.0 in /usr/local/lib/python3.11/dist-packages (from tensorflow<2.19,>=2.18->google-meridian[and-cuda,colab]) (1.17.0)\n",
            "Requirement already satisfied: termcolor>=1.1.0 in /usr/local/lib/python3.11/dist-packages (from tensorflow<2.19,>=2.18->google-meridian[and-cuda,colab]) (3.1.0)\n",
            "Requirement already satisfied: wrapt>=1.11.0 in /usr/local/lib/python3.11/dist-packages (from tensorflow<2.19,>=2.18->google-meridian[and-cuda,colab]) (1.17.2)\n",
            "Requirement already satisfied: grpcio<2.0,>=1.24.3 in /usr/local/lib/python3.11/dist-packages (from tensorflow<2.19,>=2.18->google-meridian[and-cuda,colab]) (1.72.1)\n",
            "Requirement already satisfied: tensorboard<2.19,>=2.18 in /usr/local/lib/python3.11/dist-packages (from tensorflow<2.19,>=2.18->google-meridian[and-cuda,colab]) (2.18.0)\n",
            "Requirement already satisfied: keras>=3.5.0 in /usr/local/lib/python3.11/dist-packages (from tensorflow<2.19,>=2.18->google-meridian[and-cuda,colab]) (3.8.0)\n",
            "Requirement already satisfied: h5py>=3.11.0 in /usr/local/lib/python3.11/dist-packages (from tensorflow<2.19,>=2.18->google-meridian[and-cuda,colab]) (3.13.0)\n",
            "Requirement already satisfied: ml-dtypes<0.5.0,>=0.4.0 in /usr/local/lib/python3.11/dist-packages (from tensorflow<2.19,>=2.18->google-meridian[and-cuda,colab]) (0.4.1)\n",
            "Requirement already satisfied: tensorflow-io-gcs-filesystem>=0.23.1 in /usr/local/lib/python3.11/dist-packages (from tensorflow<2.19,>=2.18->google-meridian[and-cuda,colab]) (0.37.1)\n",
            "Requirement already satisfied: decorator in /usr/local/lib/python3.11/dist-packages (from tensorflow-probability<0.26,>=0.25->google-meridian[and-cuda,colab]) (4.4.2)\n",
            "Requirement already satisfied: cloudpickle>=1.3 in /usr/local/lib/python3.11/dist-packages (from tensorflow-probability<0.26,>=0.25->google-meridian[and-cuda,colab]) (3.1.1)\n",
            "Requirement already satisfied: dm-tree in /usr/local/lib/python3.11/dist-packages (from tensorflow-probability<0.26,>=0.25->google-meridian[and-cuda,colab]) (0.1.9)\n",
            "Requirement already satisfied: nvidia-cublas-cu12==12.5.3.2 in /usr/local/lib/python3.11/dist-packages (from tensorflow[and-cuda]<2.19,>=2.18; extra == \"and-cuda\"->google-meridian[and-cuda,colab]) (12.5.3.2)\n",
            "Requirement already satisfied: nvidia-cuda-cupti-cu12==12.5.82 in /usr/local/lib/python3.11/dist-packages (from tensorflow[and-cuda]<2.19,>=2.18; extra == \"and-cuda\"->google-meridian[and-cuda,colab]) (12.5.82)\n",
            "Requirement already satisfied: nvidia-cuda-nvcc-cu12==12.5.82 in /usr/local/lib/python3.11/dist-packages (from tensorflow[and-cuda]<2.19,>=2.18; extra == \"and-cuda\"->google-meridian[and-cuda,colab]) (12.5.82)\n",
            "Requirement already satisfied: nvidia-cuda-nvrtc-cu12==12.5.82 in /usr/local/lib/python3.11/dist-packages (from tensorflow[and-cuda]<2.19,>=2.18; extra == \"and-cuda\"->google-meridian[and-cuda,colab]) (12.5.82)\n",
            "Requirement already satisfied: nvidia-cuda-runtime-cu12==12.5.82 in /usr/local/lib/python3.11/dist-packages (from tensorflow[and-cuda]<2.19,>=2.18; extra == \"and-cuda\"->google-meridian[and-cuda,colab]) (12.5.82)\n",
            "Requirement already satisfied: nvidia-cudnn-cu12==9.3.0.75 in /usr/local/lib/python3.11/dist-packages (from tensorflow[and-cuda]<2.19,>=2.18; extra == \"and-cuda\"->google-meridian[and-cuda,colab]) (9.3.0.75)\n",
            "Requirement already satisfied: nvidia-cufft-cu12==11.2.3.61 in /usr/local/lib/python3.11/dist-packages (from tensorflow[and-cuda]<2.19,>=2.18; extra == \"and-cuda\"->google-meridian[and-cuda,colab]) (11.2.3.61)\n",
            "Requirement already satisfied: nvidia-curand-cu12==10.3.6.82 in /usr/local/lib/python3.11/dist-packages (from tensorflow[and-cuda]<2.19,>=2.18; extra == \"and-cuda\"->google-meridian[and-cuda,colab]) (10.3.6.82)\n",
            "Requirement already satisfied: nvidia-cusolver-cu12==11.6.3.83 in /usr/local/lib/python3.11/dist-packages (from tensorflow[and-cuda]<2.19,>=2.18; extra == \"and-cuda\"->google-meridian[and-cuda,colab]) (11.6.3.83)\n",
            "Requirement already satisfied: nvidia-cusparse-cu12==12.5.1.3 in /usr/local/lib/python3.11/dist-packages (from tensorflow[and-cuda]<2.19,>=2.18; extra == \"and-cuda\"->google-meridian[and-cuda,colab]) (12.5.1.3)\n",
            "Requirement already satisfied: nvidia-nccl-cu12==2.21.5 in /usr/local/lib/python3.11/dist-packages (from tensorflow[and-cuda]<2.19,>=2.18; extra == \"and-cuda\"->google-meridian[and-cuda,colab]) (2.21.5)\n",
            "Requirement already satisfied: nvidia-nvjitlink-cu12==12.5.82 in /usr/local/lib/python3.11/dist-packages (from tensorflow[and-cuda]<2.19,>=2.18; extra == \"and-cuda\"->google-meridian[and-cuda,colab]) (12.5.82)\n",
            "Requirement already satisfied: matplotlib>=3.5 in /usr/local/lib/python3.11/dist-packages (from arviz->google-meridian[and-cuda,colab]) (3.10.0)\n",
            "Requirement already satisfied: h5netcdf>=1.0.2 in /usr/local/lib/python3.11/dist-packages (from arviz->google-meridian[and-cuda,colab]) (1.6.1)\n",
            "Requirement already satisfied: xarray-einstats>=0.3 in /usr/local/lib/python3.11/dist-packages (from arviz->google-meridian[and-cuda,colab]) (0.9.0)\n",
            "Requirement already satisfied: wheel<1.0,>=0.23.0 in /usr/local/lib/python3.11/dist-packages (from astunparse>=1.6.0->tensorflow<2.19,>=2.18->google-meridian[and-cuda,colab]) (0.45.1)\n",
            "Requirement already satisfied: attrs>=22.2.0 in /usr/local/lib/python3.11/dist-packages (from jsonschema>=3.0->altair>=5->google-meridian[and-cuda,colab]) (25.3.0)\n",
            "Requirement already satisfied: jsonschema-specifications>=2023.03.6 in /usr/local/lib/python3.11/dist-packages (from jsonschema>=3.0->altair>=5->google-meridian[and-cuda,colab]) (2025.4.1)\n",
            "Requirement already satisfied: referencing>=0.28.4 in /usr/local/lib/python3.11/dist-packages (from jsonschema>=3.0->altair>=5->google-meridian[and-cuda,colab]) (0.36.2)\n",
            "Requirement already satisfied: rpds-py>=0.7.1 in /usr/local/lib/python3.11/dist-packages (from jsonschema>=3.0->altair>=5->google-meridian[and-cuda,colab]) (0.25.1)\n",
            "Requirement already satisfied: rich in /usr/local/lib/python3.11/dist-packages (from keras>=3.5.0->tensorflow<2.19,>=2.18->google-meridian[and-cuda,colab]) (13.9.4)\n",
            "Requirement already satisfied: namex in /usr/local/lib/python3.11/dist-packages (from keras>=3.5.0->tensorflow<2.19,>=2.18->google-meridian[and-cuda,colab]) (0.1.0)\n",
            "Requirement already satisfied: optree in /usr/local/lib/python3.11/dist-packages (from keras>=3.5.0->tensorflow<2.19,>=2.18->google-meridian[and-cuda,colab]) (0.16.0)\n",
            "Requirement already satisfied: contourpy>=1.0.1 in /usr/local/lib/python3.11/dist-packages (from matplotlib>=3.5->arviz->google-meridian[and-cuda,colab]) (1.3.2)\n",
            "Requirement already satisfied: cycler>=0.10 in /usr/local/lib/python3.11/dist-packages (from matplotlib>=3.5->arviz->google-meridian[and-cuda,colab]) (0.12.1)\n",
            "Requirement already satisfied: fonttools>=4.22.0 in /usr/local/lib/python3.11/dist-packages (from matplotlib>=3.5->arviz->google-meridian[and-cuda,colab]) (4.58.1)\n",
            "Requirement already satisfied: kiwisolver>=1.3.1 in /usr/local/lib/python3.11/dist-packages (from matplotlib>=3.5->arviz->google-meridian[and-cuda,colab]) (1.4.8)\n",
            "Requirement already satisfied: pillow>=8 in /usr/local/lib/python3.11/dist-packages (from matplotlib>=3.5->arviz->google-meridian[and-cuda,colab]) (11.2.1)\n",
            "Requirement already satisfied: pyparsing>=2.3.1 in /usr/local/lib/python3.11/dist-packages (from matplotlib>=3.5->arviz->google-meridian[and-cuda,colab]) (3.2.3)\n",
            "Requirement already satisfied: charset-normalizer<4,>=2 in /usr/local/lib/python3.11/dist-packages (from requests<3,>=2.21.0->tensorflow<2.19,>=2.18->google-meridian[and-cuda,colab]) (3.4.2)\n",
            "Requirement already satisfied: idna<4,>=2.5 in /usr/local/lib/python3.11/dist-packages (from requests<3,>=2.21.0->tensorflow<2.19,>=2.18->google-meridian[and-cuda,colab]) (3.10)\n",
            "Requirement already satisfied: urllib3<3,>=1.21.1 in /usr/local/lib/python3.11/dist-packages (from requests<3,>=2.21.0->tensorflow<2.19,>=2.18->google-meridian[and-cuda,colab]) (2.4.0)\n",
            "Requirement already satisfied: certifi>=2017.4.17 in /usr/local/lib/python3.11/dist-packages (from requests<3,>=2.21.0->tensorflow<2.19,>=2.18->google-meridian[and-cuda,colab]) (2025.4.26)\n",
            "Requirement already satisfied: markdown>=2.6.8 in /usr/local/lib/python3.11/dist-packages (from tensorboard<2.19,>=2.18->tensorflow<2.19,>=2.18->google-meridian[and-cuda,colab]) (3.8)\n",
            "Requirement already satisfied: tensorboard-data-server<0.8.0,>=0.7.0 in /usr/local/lib/python3.11/dist-packages (from tensorboard<2.19,>=2.18->tensorflow<2.19,>=2.18->google-meridian[and-cuda,colab]) (0.7.2)\n",
            "Requirement already satisfied: werkzeug>=1.0.1 in /usr/local/lib/python3.11/dist-packages (from tensorboard<2.19,>=2.18->tensorflow<2.19,>=2.18->google-meridian[and-cuda,colab]) (3.1.3)\n",
            "Requirement already satisfied: MarkupSafe>=2.0 in /usr/local/lib/python3.11/dist-packages (from jinja2->altair>=5->google-meridian[and-cuda,colab]) (3.0.2)\n",
            "Requirement already satisfied: markdown-it-py>=2.2.0 in /usr/local/lib/python3.11/dist-packages (from rich->keras>=3.5.0->tensorflow<2.19,>=2.18->google-meridian[and-cuda,colab]) (3.0.0)\n",
            "Requirement already satisfied: pygments<3.0.0,>=2.13.0 in /usr/local/lib/python3.11/dist-packages (from rich->keras>=3.5.0->tensorflow<2.19,>=2.18->google-meridian[and-cuda,colab]) (2.19.1)\n",
            "Requirement already satisfied: mdurl~=0.1 in /usr/local/lib/python3.11/dist-packages (from markdown-it-py>=2.2.0->rich->keras>=3.5.0->tensorflow<2.19,>=2.18->google-meridian[and-cuda,colab]) (0.1.2)\n",
            "Downloading natsort-7.1.1-py3-none-any.whl (35 kB)\n",
            "Downloading google_meridian-1.1.2-py3-none-any.whl (229 kB)\n",
            "\u001b[2K   \u001b[90m━━━━━━━━━━━━━━━━━━━━━━━━━━━━━━━━━━━━━━━━\u001b[0m \u001b[32m229.6/229.6 kB\u001b[0m \u001b[31m12.0 MB/s\u001b[0m eta \u001b[36m0:00:00\u001b[0m\n",
            "\u001b[?25hDownloading python_calamine-0.3.2-cp311-cp311-manylinux_2_17_x86_64.manylinux2014_x86_64.whl (886 kB)\n",
            "\u001b[2K   \u001b[90m━━━━━━━━━━━━━━━━━━━━━━━━━━━━━━━━━━━━━━━━\u001b[0m \u001b[32m886.0/886.0 kB\u001b[0m \u001b[31m14.4 MB/s\u001b[0m eta \u001b[36m0:00:00\u001b[0m\n",
            "\u001b[?25hInstalling collected packages: python-calamine, natsort, google-meridian\n",
            "  Attempting uninstall: natsort\n",
            "    Found existing installation: natsort 8.4.0\n",
            "    Uninstalling natsort-8.4.0:\n",
            "      Successfully uninstalled natsort-8.4.0\n",
            "Successfully installed google-meridian-1.1.2 natsort-7.1.1 python-calamine-0.3.2\n"
          ]
        }
      ]
    },
    {
      "cell_type": "code",
      "source": [
        "import numpy as np\n",
        "import pandas as pd\n",
        "import tensorflow as tf\n",
        "import tensorflow_probability as tfp\n",
        "import arviz as az\n",
        "\n",
        "import IPython\n",
        "\n",
        "from meridian import constants\n",
        "from meridian.data import load\n",
        "from meridian.data import test_utils\n",
        "from meridian.model import model\n",
        "from meridian.model import spec\n",
        "from meridian.model import prior_distribution\n",
        "from meridian.analysis import optimizer\n",
        "from meridian.analysis import analyzer\n",
        "from meridian.analysis import visualizer\n",
        "from meridian.analysis import summarizer\n",
        "from meridian.analysis import formatter\n",
        "\n",
        "# check if GPU is available\n",
        "from psutil import virtual_memory\n",
        "ram_gb = virtual_memory().total / 1e9\n",
        "print('Your runtime has {:.1f} gigabytes of available RAM\\n'.format(ram_gb))\n",
        "print(\"Num GPUs Available: \", len(tf.config.experimental.list_physical_devices('GPU')))\n",
        "print(\"Num CPUs Available: \", len(tf.config.experimental.list_physical_devices('CPU')))"
      ],
      "metadata": {
        "colab": {
          "base_uri": "https://localhost:8080/"
        },
        "id": "DIzd0qSuGUXF",
        "outputId": "842183ef-e97a-4c6f-fe2f-5f40ccc35837"
      },
      "execution_count": null,
      "outputs": [
        {
          "output_type": "stream",
          "name": "stdout",
          "text": [
            "Your runtime has 13.6 gigabytes of available RAM\n",
            "\n",
            "Num GPUs Available:  0\n",
            "Num CPUs Available:  1\n"
          ]
        }
      ]
    },
    {
      "cell_type": "code",
      "source": [
        "#['DATE', 'revenue', 'tv_S', 'ooh_S', 'print_S', 'facebook_I', 'search_clicks_P', 'search_S', 'competitor_sales_B', 'facebook_S', 'events', 'newsletter']\n",
        "\n",
        "coord_to_columns = load.CoordToColumns(\n",
        "    time='DATE',\n",
        "    geo='geo',\n",
        "    controls=['GQV', 'competitor_sales_B'],\n",
        "    population='population',\n",
        "    kpi='revenue',\n",
        "    #revenue_per_kpi='revenue_per_conversion',\n",
        "    media=[\n",
        "        'Channel0_impression',\n",
        "        'Channel1_impression',\n",
        "        'Channel2_impression',\n",
        "        'Channel3_impression',\n",
        "        'Channel4_impression',\n",
        "    ],\n",
        "    media_spend=[\n",
        "        'Channel0_spend',\n",
        "        'Channel1_spend',\n",
        "        'Channel2_spend',\n",
        "        'Channel3_spend',\n",
        "        'Channel4_spend',\n",
        "    ],\n",
        "    organic_media=['Organic_channel0_impression'],\n",
        "    non_media_treatments=['Promo'],\n",
        ")"
      ],
      "metadata": {
        "id": "BrE0epiNoP0K"
      },
      "execution_count": null,
      "outputs": []
    }
  ]
}